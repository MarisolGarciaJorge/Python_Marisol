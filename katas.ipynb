{
 "cells": [
  {
   "cell_type": "code",
   "execution_count": 16,
   "id": "a8a034e3",
   "metadata": {},
   "outputs": [
    {
     "name": "stdout",
     "output_type": "stream",
     "text": [
      "{'h': 1, 'o': 2, 'y': 1, 'p': 3, 'u': 3, 'e': 5, 'd': 2, 's': 1, 'r': 3, 'n': 2, 'b': 1, 'i': 2, 'a': 4, 't': 1, 'l': 1}\n"
     ]
    }
   ],
   "source": [
    "# 1. Escribe una función que reciba una cadena de texto como parámetro y devuelva un diciconario con las frecuencias de cada letra en la cadena. Los espacios no deben ser considerados\n",
    "\n",
    "\n",
    "\n",
    "def frecuencia_letras (cadena_texto) :\n",
    "    \"\"\"\n",
    "    Calcula la frecuencia de cada letra, ignorando los espacios\n",
    "\n",
    "    Args:\n",
    "        cadena_texto (string):  El texto introducido\n",
    "\n",
    "    Returns: Un diccionario donde las claves son las letras y los valores son sus frecuencias\n",
    "    \"\"\"\n",
    "    \n",
    "    frecuencias = { }\n",
    "    for caracter in cadena_texto :\n",
    "        if caracter.isspace ():\n",
    "            continue\n",
    "        letra = caracter.lower ()\n",
    "        if letra in frecuencias :\n",
    "            frecuencias [letra] +=1\n",
    "        else :\n",
    "            frecuencias [letra] = 1\n",
    "    return frecuencias\n",
    "\n",
    "cadena_texto = \"Hoy puede ser un buen dia para petarloi\"\n",
    "resultado = frecuencia_letras  (cadena_texto)\n",
    "print (resultado)\n",
    "\n"
   ]
  },
  {
   "cell_type": "code",
   "execution_count": 19,
   "id": "0b11817e",
   "metadata": {},
   "outputs": [
    {
     "name": "stdout",
     "output_type": "stream",
     "text": [
      "[6, 10, 2, 18, 14, 6, 2, 18, 14, 18, 2, 18, 14, 0]\n"
     ]
    }
   ],
   "source": [
    "# 2. Dada una lista de números, obtén una nueva lista con el doble de cada valor. Usa la función map()\n",
    "\n",
    "lista_numeros_originales = [3, 5, 1, 9, 7, 3, 1, 9, 7, 9, 1, 9, 7, 0]\n",
    "\n",
    "numeros_duplicados_iterador = map ( lambda x : x * 2, lista_numeros_originales)\n",
    "\n",
    "lista_numeros_duplicados = list (numeros_duplicados_iterador)\n",
    "\n",
    "print (lista_numeros_duplicados)\n"
   ]
  },
  {
   "cell_type": "code",
   "execution_count": 24,
   "id": "ff45285f",
   "metadata": {},
   "outputs": [
    {
     "name": "stdout",
     "output_type": "stream",
     "text": [
      "['manzana', 'naranja', 'anal', 'mandarina']\n"
     ]
    }
   ],
   "source": [
    "# 3. Escribe una función que tome una lista de palabras y una palabra objetivo como parámetros. La función debe devolver una lista con todas las palabras de la lista original que contengan la palabra objetivo.\n",
    "\n",
    "def  encontrar_palabras_objetivo (lista_palabras, palabra_objetivo) :\n",
    "\n",
    "    \"\"\"\n",
    "    Devuelve una lista de palabras que contine la palabra objetivo\n",
    "\n",
    "    Args : \n",
    "          lista_palabras : lista de palabras proporcionada\n",
    "          palabara_objetivo : La cadena (secuencia de letras) que se debe buscar dentro de las palabras que componen una lista\n",
    "\n",
    "    Returns :\n",
    "           Una nueva lista que contiene sólo las palabras de la lista original que contienen esa secuencia de letras\n",
    "    \"\"\"\n",
    "    palabras_encontradas = []\n",
    "    for palabra in lista_palabras :\n",
    "        if palabra_objetivo in palabra:\n",
    "            palabras_encontradas.append (palabra)\n",
    "    return palabras_encontradas\n",
    "\n",
    "lista_palabras = [\"manzana\", \"cacahuete\", \"soldado\", \"naranja\", \"armada\", \"actor\", \"bailarina\", \"anal\", \"mandarina\"]\n",
    "palabra_objetivo = \"an\"\n",
    "resultado = encontrar_palabras_objetivo (lista_palabras, palabra_objetivo)\n",
    "print (resultado)\n",
    "\n"
   ]
  },
  {
   "cell_type": "code",
   "execution_count": 27,
   "id": "89ab3dbd",
   "metadata": {},
   "outputs": [
    {
     "name": "stdout",
     "output_type": "stream",
     "text": [
      "[-5, -1, 1, -1, 2]\n"
     ]
    }
   ],
   "source": [
    "# 4. Genera una función que calcule la diferencia entre los valores de dos listas. Usa la función map()\n",
    "\n",
    "def diferencia_listas (lista1, lista2):\n",
    "\n",
    "    \"\"\"\n",
    "    Calcula la diferencia entre los valores de las dos listas\n",
    "\n",
    "    Arg :\n",
    "        lista1 : primera lista dada . A estos números se le restarán los de la lista 2\n",
    "        lista2: segunda lista dada. Serán los números que resten a la lista 1\n",
    "\n",
    "    Return:\n",
    "        llista con  números resultado de restar los números de la lista 1 los nñumeros de la lista 2\n",
    "    \"\"\"\n",
    "\n",
    "    resultado = list (map (lambda x, y : x-y, lista1, lista2))\n",
    "    return resultado\n",
    "\n",
    "\n",
    "lista1 = [ 2, 4, 7, 3, 5]\n",
    "lista2 = [7, 5, 6, 4, 3 ]\n",
    "\n",
    "resultado = diferencia_listas (lista1, lista2)\n",
    "print (resultado)\n",
    "\n"
   ]
  },
  {
   "cell_type": "code",
   "execution_count": null,
   "id": "fb40c9b4",
   "metadata": {},
   "outputs": [
    {
     "name": "stdout",
     "output_type": "stream",
     "text": [
      "El resultado de la media de las notas y el estado asociadp es: (5.2, 'Aprobado')\n"
     ]
    }
   ],
   "source": [
    "# 5. Ecribe una función que tome una lista de números como parámetro y un valor opcional nota_aprobado, que por defecto es 5. La función debe calcular la media de los números en la lista y determinar si la media es mayor o igual que nota aprobado. Si es así, el estado será \"aprobado\", de lo contrario, será \"suspenso\". La función debe devolver una tupla que contenga la media y el estado\n",
    "\n",
    "def calcular_nota_estado (notas_individuales, nota_aprobado = 5):\n",
    "\n",
    "    \"\"\"\n",
    "    Args:\n",
    "          notas_individuales : Lista con las notas en cada sección\n",
    "          nota_aprobado : la nota mínima para aprobar del promedio de las notas\n",
    "\n",
    "    return: \n",
    "         una tupla que contiene la media de las notas y si está probado o no. Devuelve( 0 , error ) si la lista está vacia\n",
    "        \n",
    "    \"\"\"\n",
    "    \n",
    "    media = sum (notas_individuales) / len (notas_individuales)\n",
    "    if media >= 5:\n",
    "        nota_aprobado = \"Aprobado\"\n",
    "    else :\n",
    "        nota_aprobado = \"Suspenso\"\n",
    "    return media, nota_aprobado\n",
    "\n",
    "lista_notas1 = [1, 10, 4, 5, 6]\n",
    "lista_nota2 =[ 6, 6, 7, 8, 10]\n",
    "lista_notas3 = [9, 5, 7, 3, 7]\n",
    "resultado1= calcular_nota_estado (lista_notas1)\n",
    "print (f\"El resultado de la media de las notas y el estado asociadp es: {resultado1}\")\n"
   ]
  },
  {
   "cell_type": "code",
   "execution_count": 54,
   "id": "a637d884",
   "metadata": {},
   "outputs": [
    {
     "name": "stdout",
     "output_type": "stream",
     "text": [
      "5040\n"
     ]
    }
   ],
   "source": [
    "# 6. Escribe una función que calcule el factorial de un número de manera recursiva\n",
    "\n",
    "def factorial_recursivo (n):\n",
    "    #caso base : el factorial de 0 o 1 es 1\n",
    "    if n ==0 or n==1 :\n",
    "        return 1\n",
    "    else:\n",
    "        return n * factorial_recursivo (n-1)\n",
    "# Ejemplo \n",
    "n = 7\n",
    "print (factorial_recursivo (7))"
   ]
  },
  {
   "cell_type": "code",
   "execution_count": 60,
   "id": "168e5cc3",
   "metadata": {},
   "outputs": [
    {
     "name": "stdout",
     "output_type": "stream",
     "text": [
      "['al', 'd1', '4j']\n"
     ]
    }
   ],
   "source": [
    "# 7. Genera una función que convierta una lista de tuplas a una lista de strings. Usa la función map()\n",
    "\n",
    "def convertir_tuplas_a_strings (lista_tuplas):\n",
    "\n",
    "    \"\"\"\n",
    "    Convierte una lista de tuplas a una de strings usando map\n",
    "\n",
    "    Args: \n",
    "       lista_tuplas : La lista de tuplas a convertir\n",
    "\n",
    "    Returns: \n",
    "        Una nueva lista donde cada elemento es un string usando map\n",
    "        \n",
    "    \"\"\"\n",
    "    return list (map (lambda tupla: \"\".join (map (str, tupla)), lista_tuplas))\n",
    "# ejemplo\n",
    "lista_tuplas = [(\"a\", \"l\"), (\"d\", 1), (4, \"j\")]\n",
    "lista_strings = convertir_tuplas_a_strings (lista_tuplas)\n",
    "print (lista_strings)"
   ]
  },
  {
   "cell_type": "code",
   "execution_count": 6,
   "id": "439eaf59",
   "metadata": {},
   "outputs": [
    {
     "name": "stdout",
     "output_type": "stream",
     "text": [
      "Error: Entrada no válida. Por favor introduce un valor númerico\n"
     ]
    }
   ],
   "source": [
    "# 8. Escribe un programa que pida al usuario dos números e intente dividirlos. Si el usuario ingresa un valor no numérico o intenta dividir por cero, maneja esadefs excepciones de manera adecuada. Asegúrate de mostrar un mensaje indicando si la división fue exitosa o no. \n",
    "\n",
    "def dividir_numeros ():\n",
    "    \"\"\"\n",
    "    Pide dos números al usuario, los divide y maneja las excepciones de netrad no numérica  y dividión por cero\n",
    "\n",
    "    \"\"\"\n",
    "    try:\n",
    "        numero1_str = input (\"Introduce el primer número (dividendo):\")\n",
    "        numero1 = float (numero1_str)\n",
    "        numero2_str = input (\"Introduce el segundo número (divisor):\")\n",
    "        numero2 = float (numero2_str)\n",
    "        resultado = numero1/numero2\n",
    "        print (f\"División realizada con éxito {numero1}/{numero2} = {resultado}\")\n",
    "\n",
    "    except ValueError:\n",
    "        print (\"Error: Entrada no válida. Por favor introduce un valor númerico\")  \n",
    "\n",
    "    except ZeroDivisionError:\n",
    "        print (\"Error: No es posible dividir por cero\")\n",
    "\n",
    "    except Exception as e:\n",
    "        print (f\"Ocurrió un error inesperado : {e}\")\n",
    "\n",
    "dividir_numeros ()"
   ]
  },
  {
   "cell_type": "code",
   "execution_count": 8,
   "id": "f2a22e11",
   "metadata": {},
   "outputs": [
    {
     "name": "stdout",
     "output_type": "stream",
     "text": [
      "['Gato', 'Loro', 'Perro', 'Caballo']\n"
     ]
    }
   ],
   "source": [
    "# 9. Escribe una función que tome una lista de nombres de mascotas como parámetro y devuelva una nueva lista excluyendo ciertas mascotas prohibidas en España. La lista de mascotas a excluir es [\"Mapache\", \"Tigre\",\"Serpiente Pitón\", \"Cocodrilo\", \"Oso\"].Usa la función filter()\n",
    "\n",
    "def filtrar_mascotas (mascotas, mascotas_prohibidas):\n",
    "    \"\"\"\n",
    "    Filtra una lista de mascotas devolviendo una nueva lista que excluye las mascotas prohibidas en España\n",
    "\n",
    "    Args:\n",
    "        mascotas (str): Listado de mascotas\n",
    "        mascotas_prohibidas(str): Mascotas prohibidas en España \n",
    "\n",
    "    Returns:\n",
    "       Una nueva lista de mascotas en las que las mascotas prohibidas en España no aparecerán\n",
    "    \"\"\"\n",
    "    return list  (filter (lambda x : x not in mascotas_prohibidas, mascotas))\n",
    "\n",
    "# Ejemplo\n",
    "\n",
    "mascotas = [\"Mapache\", \"Gato\", \"Tigre\", \"Serpiente Pitón\", \"Loro\", \"Cocodrilo\" , \"Perro\", \"Oso\", \"Caballo\"]\n",
    "mascotas_prohibidas = [\"Mapache\",  \"Tigre\", \"Serpiente Pitón\",  \"Cocodrilo\" , \"Oso\" ]\n",
    "mascotas_permitidas = filtrar_mascotas (mascotas, mascotas_prohibidas)\n",
    "print (mascotas_permitidas)\n"
   ]
  },
  {
   "cell_type": "code",
   "execution_count": 4,
   "id": "73654974",
   "metadata": {},
   "outputs": [
    {
     "name": "stdout",
     "output_type": "stream",
     "text": [
      "La lista1 es : [10, 20, 30, 40, 50]\n",
      "El promedio de la lista1 es: 30.0\n"
     ]
    },
    {
     "ename": "NameError",
     "evalue": "name 'LitaVaciaError' is not defined",
     "output_type": "error",
     "traceback": [
      "\u001b[31m---------------------------------------------------------------------------\u001b[39m",
      "\u001b[31mListaVaciaError\u001b[39m                           Traceback (most recent call last)",
      "\u001b[36mCell\u001b[39m\u001b[36m \u001b[39m\u001b[32mIn[4]\u001b[39m\u001b[32m, line 43\u001b[39m\n\u001b[32m     41\u001b[39m \u001b[38;5;28;01mtry\u001b[39;00m :\n\u001b[32m---> \u001b[39m\u001b[32m43\u001b[39m     promedio2 = \u001b[43mcalcular_promedio\u001b[49m\u001b[43m \u001b[49m\u001b[43m(\u001b[49m\u001b[43mlista2\u001b[49m\u001b[43m)\u001b[49m\n\u001b[32m     44\u001b[39m     \u001b[38;5;28mprint\u001b[39m (\u001b[33mf\u001b[39m\u001b[33m\"\u001b[39m\u001b[33mLa lista2 es : \u001b[39m\u001b[38;5;132;01m{\u001b[39;00mlista2\u001b[38;5;132;01m}\u001b[39;00m\u001b[33m\"\u001b[39m)\n",
      "\u001b[36mCell\u001b[39m\u001b[36m \u001b[39m\u001b[32mIn[4]\u001b[39m\u001b[32m, line 24\u001b[39m, in \u001b[36mcalcular_promedio\u001b[39m\u001b[34m(numeros)\u001b[39m\n\u001b[32m     23\u001b[39m \u001b[38;5;28;01mif\u001b[39;00m \u001b[38;5;129;01mnot\u001b[39;00m numeros :\n\u001b[32m---> \u001b[39m\u001b[32m24\u001b[39m     \u001b[38;5;28;01mraise\u001b[39;00m ListaVaciaError (\u001b[33m\"\u001b[39m\u001b[33mLa lista de números no puede estar vacía para calcular el promedio \u001b[39m\u001b[33m\"\u001b[39m)\n\u001b[32m     25\u001b[39m \u001b[38;5;28;01mreturn\u001b[39;00m \u001b[38;5;28msum\u001b[39m (numeros) / \u001b[38;5;28mlen\u001b[39m (numeros)\n",
      "\u001b[31mListaVaciaError\u001b[39m: La lista de números no puede estar vacía para calcular el promedio ",
      "\nDuring handling of the above exception, another exception occurred:\n",
      "\u001b[31mNameError\u001b[39m                                 Traceback (most recent call last)",
      "\u001b[36mCell\u001b[39m\u001b[36m \u001b[39m\u001b[32mIn[4]\u001b[39m\u001b[32m, line 47\u001b[39m\n\u001b[32m     44\u001b[39m     \u001b[38;5;28mprint\u001b[39m (\u001b[33mf\u001b[39m\u001b[33m\"\u001b[39m\u001b[33mLa lista2 es : \u001b[39m\u001b[38;5;132;01m{\u001b[39;00mlista2\u001b[38;5;132;01m}\u001b[39;00m\u001b[33m\"\u001b[39m)\n\u001b[32m     45\u001b[39m     \u001b[38;5;28mprint\u001b[39m (\u001b[33mf\u001b[39m\u001b[33m\"\u001b[39m\u001b[33mEl promedio de la lista2 es: \u001b[39m\u001b[38;5;132;01m{\u001b[39;00mpromedio2\u001b[38;5;132;01m}\u001b[39;00m\u001b[33m\"\u001b[39m)\n\u001b[32m---> \u001b[39m\u001b[32m47\u001b[39m \u001b[38;5;28;01mexcept\u001b[39;00m \u001b[43mLitaVaciaError\u001b[49m \u001b[38;5;28;01mas\u001b[39;00m e:\n\u001b[32m     48\u001b[39m     \u001b[38;5;28mprint\u001b[39m (\u001b[33mf\u001b[39m\u001b[33m\"\u001b[39m\u001b[33mError: \u001b[39m\u001b[38;5;132;01m{\u001b[39;00me\u001b[38;5;132;01m}\u001b[39;00m\u001b[33m\"\u001b[39m)\n",
      "\u001b[31mNameError\u001b[39m: name 'LitaVaciaError' is not defined"
     ]
    }
   ],
   "source": [
    "# 10. Escribe una función que reciba una lista de números y calcule su promedio. Si la lista está vacía, lanza una excepción personalizada y maneja el error adecuadamente\n",
    "\n",
    "class ListaVaciaError (Exception):\n",
    "    \"\"\"\n",
    "    Excepción personalizada  cunado se inbtenta calcular el promedio de una lista vacía\n",
    "    \"\"\"\n",
    "    pass\n",
    "\n",
    "def calcular_promedio (numeros):\n",
    "    \"\"\"\n",
    "    Calcula el promedio de una lista de números\n",
    "\n",
    "    Args:\n",
    "         numeros (list): la lista de números\n",
    "\n",
    "    Returns: \n",
    "         float: el promedio de los  números de la lista\n",
    "\n",
    "    Raises: \n",
    "         ListaVaciaError (\"La lista de los números está vacía , no pudiendose calcular el promedio\")\n",
    "\n",
    "    \"\"\"\n",
    "    if not numeros :\n",
    "        raise ListaVaciaError (\"La lista de números no puede estar vacía para calcular el promedio \")\n",
    "    return sum (numeros) / len (numeros)\n",
    "\n",
    "# Ejemplo\n",
    "\n",
    "lista1 = [10, 20, 30, 40, 50]\n",
    "lista2 = []\n",
    "\n",
    "try :\n",
    "\n",
    "    promedio1 = calcular_promedio (lista1)\n",
    "    print (f\"La lista1 es : {lista1}\")\n",
    "    print (f\"El promedio de la lista1 es: {promedio1}\")\n",
    "\n",
    "except LitaVaciaError as e:\n",
    "    print (f\"Error: {e}\")\n",
    "\n",
    "try :\n",
    "\n",
    "    promedio2 = calcular_promedio (lista2)\n",
    "    print (f\"La lista2 es : {lista2}\")\n",
    "    print (f\"El promedio de la lista2 es: {promedio2}\")\n",
    "\n",
    "except LitaVaciaError as e:\n",
    "    print (f\"Error: {e}\")\n",
    "\n"
   ]
  },
  {
   "cell_type": "code",
   "execution_count": null,
   "id": "222debc6",
   "metadata": {},
   "outputs": [],
   "source": [
    "#11. Escribe un programa que pida al usuario que introduzca su edad. Si el usuario ingresa un valor no numérico o un valor fuera del rango esperado (por ejemplo, menor que 0 o mayor que 120), maneja las excepciones adecuadamente.\n",
    "\n",
    "def edad_usuario ():\n",
    "    \"\"\"\n",
    "    Pide al usuario que introduzca su edad y valida la entrada.\n",
    "    Le sigue solicitando la entrada de un valor hasta que  el valor introducido sea valido\n",
    "    \"\"\"\n",
    "    while True:\n",
    "        try: \n",
    "            edad_str = input (\"Por favor introduce tu edad :\")\n",
    "            edad = int (edad_str)\n",
    "\n",
    "            if 0 <= edad <= 120 :\n",
    "               print (f\"Tu edad es : {edad}\")\n",
    "            else:\n",
    "               print (\"Error: La edad está fuera del rango normal de un humano que sería 0 y 120\")\n",
    "        \n",
    "        except ValueError:\n",
    "           print (\"Error: Por favor introduce un valor numérico para la edad\")\n",
    "    \n",
    "edad_usuario ()\n",
    "\n"
   ]
  },
  {
   "cell_type": "code",
   "execution_count": 10,
   "id": "dc3c6424",
   "metadata": {},
   "outputs": [
    {
     "name": "stdout",
     "output_type": "stream",
     "text": [
      "[2, 4, 2, 3, 5, 2, 5, 3, 9, 6, 9]\n"
     ]
    }
   ],
   "source": [
    "# 12. Genera una función que al recibir una frase devuelva una lista con la longitud de cada palabra. Usa la función map()\n",
    "\n",
    "def longitud_palabras_frase (frase):\n",
    "\n",
    "    \"\"\"\n",
    "    Devuelve una lista con la longitud de las palabras contenidas en una frase dada.\n",
    "\n",
    "    Args:\n",
    "       frase: La frase dada (str)\n",
    "\n",
    "    Returns:\n",
    "       Una lista de números enteros donde cada número es la longitud de una palabra\n",
    "    \n",
    "    \"\"\"\n",
    "    return list (map (len, frase.split ()))\n",
    "\n",
    "#Ejemplo\n",
    "\n",
    "frase = \"El loco es una carta de tarot que significa nuevos comienzos\"\n",
    "longitudes = longitud_palabras_frase (frase)\n",
    "print (longitudes)\n",
    "\n"
   ]
  },
  {
   "cell_type": "code",
   "execution_count": 17,
   "id": "bab82779",
   "metadata": {},
   "outputs": [
    {
     "name": "stdout",
     "output_type": "stream",
     "text": [
      "[('E', 'e'), ('L', 'l'), ('P', 'p'), ('S', 's'), ('U', 'u'), ('L', 'l'), (' ', ' '), ('Q', 'q'), ('R', 'r'), ('I', 'i'), ('T', 't'), ('C', 'c'), ('N', 'n'), ('O', 'o'), ('D', 'd'), ('A', 'a')]\n"
     ]
    }
   ],
   "source": [
    "# 13. Genera una función la cual, para un conjunto de caracteres, devuelva una lista de tuplas con cada letra en mayúsculas y minúsculas. Las letras no pueden estar repetidas .Usa la función map()\n",
    "\n",
    "def letras_mayusculas_minusculas (caracteres):\n",
    "\n",
    "    \"\"\"\n",
    "    Devuelve una lista de tuplas con cada letra de un conjunto de caracteres en mayúsculas y minúsculas sin repeticiones usando map\n",
    "\n",
    "    Args:\n",
    "         Caracteres : un iterable de caracteres , por ejemplo un string\n",
    "\n",
    "    Returns: \n",
    "         Una lista de tuplas con cada caracter en mayúscula y minúscula\n",
    "        \n",
    "    \"\"\"\n",
    "    \n",
    "    caracteres_unicos = set (caracteres)\n",
    "    resultado = list (map (lambda char : (char.upper(), char.lower()),  caracteres_unicos))\n",
    "    return resultado\n",
    "\n",
    "#Ejemplo\n",
    "\n",
    "frase = \"Las cosas no son lo que parecen sino todo lo contrario\"\n",
    "lista_tuplas = letras_mayusculas_minusculas (frase)\n",
    "print (lista_tuplas)"
   ]
  },
  {
   "cell_type": "code",
   "execution_count": 30,
   "id": "7646d617",
   "metadata": {},
   "outputs": [
    {
     "name": "stdout",
     "output_type": "stream",
     "text": [
      "['Valencia', 'Venecia', 'Verona']\n"
     ]
    }
   ],
   "source": [
    "#14. Crea una función que retorne las palabras de una lista de palabras que comience con una letra en especifico. Usa la función filter.\n",
    "\n",
    "def filtrar_palabras_por_inicial (lista_palabras, letra_inicial):\n",
    "    \n",
    "    \"\"\"\n",
    "    Filtra una lista de palabras para retornar sólo aquellas que comienzan con una letra específica utilizando la función filter\n",
    "\n",
    "    Args:\n",
    "        lista_palabras: Una lista de strings (palabras)\n",
    "        letra_incial : La primera letra de cada palabra\n",
    "\n",
    "    Returns:\n",
    "        Un objeto filter (que puedes convertir a lista) con las palabras filtradas\n",
    "     \n",
    "    \"\"\"\n",
    "    return filter (lambda palabra : palabra.startswith (letra_inicial), lista_palabras)\n",
    "\n",
    "# Ejemplo\n",
    "\n",
    "lista_palabras = [\"Madrid\", \"Valencia\", \"Venecia\",\"Roma\", \"Almería\", \"Burgos\", \"Mérida\", \"Verona\"]\n",
    "   \n",
    "letra_inicial = \"V\"\n",
    "\n",
    "palabras_filtradas = filtrar_palabras_por_inicial (lista_palabras, letra_inicial)\n",
    "\n",
    "print (list(palabras_filtradas))"
   ]
  },
  {
   "cell_type": "code",
   "execution_count": 33,
   "id": "d715b1ef",
   "metadata": {},
   "outputs": [
    {
     "name": "stdout",
     "output_type": "stream",
     "text": [
      "[5, 7, 9, 10, 4, 5]\n"
     ]
    }
   ],
   "source": [
    "# 15. Crea una función lambda que sume 3 a cada número de una lista dada.\n",
    "\n",
    "def sumar_tres_a_lista_numeros (lista_numeros) :\n",
    "    \"\"\"\n",
    "    Suma 3 a cada número de una lista utilizando una función lambda\n",
    "\n",
    "    Args:\n",
    "        lista_numeros : Una lista de números\n",
    "\n",
    "    Returns:\n",
    "         Una nueva lista donde cada número ha sido incrementado en 3\n",
    "    \"\"\"\n",
    "    return list (map (lambda x : x +3, lista_numeros))\n",
    "\n",
    "#Ejemplo\n",
    "\n",
    "lista_numeros= [2, 4, 6, 7, 1, 2]\n",
    "resultado = sumar_tres_a_lista_numeros (lista_numeros)\n",
    "print (resultado)"
   ]
  },
  {
   "cell_type": "code",
   "execution_count": 8,
   "id": "6bc9f3d1",
   "metadata": {},
   "outputs": [
    {
     "name": "stdout",
     "output_type": "stream",
     "text": [
      "['imposible', 'posible', 'medida', 'intentas']\n"
     ]
    }
   ],
   "source": [
    "# 16. Escribe una función que tome una cadena de texto y un número entero n como parámetros y devuelva una lista de todas las palabras que sean más largas que n. Usa la función filter()\n",
    "\n",
    "def palabras_mas_largas_que_n (texto:str, n:int) :\n",
    "    \"\"\"\n",
    "    Devuelve una lista de palabras de un texto cuya longitud sea mayor que una determinada longitud n\n",
    "\n",
    "    Args:\n",
    "        texto (str): Cadena de texto de entrada\n",
    "        n (int): El número entero de caracteres que la palabra contenida en el texto ha de superar para ser incluida en la lista\n",
    "\n",
    "    Returns:\n",
    "        Lista de palabras del texto cuya longitud sea mayor que n\n",
    "    \"\"\"\n",
    "    palabras = texto.split ()\n",
    "    palabras_filtradas = list (filter (lambda palabra : len (palabra) > n, palabras))\n",
    "    return palabras_filtradas\n",
    "\n",
    "\n",
    "#Ejemplo\n",
    "\n",
    "texto = \"Lo imposible se hace posible a medida que lo intentas\"\n",
    "longitud_minima = 4\n",
    "resultado = palabras_mas_largas_que_n (texto, longitud_minima)\n",
    "print (resultado)\n",
    "\n"
   ]
  },
  {
   "cell_type": "code",
   "execution_count": 11,
   "id": "7d4e8991",
   "metadata": {},
   "outputs": [
    {
     "name": "stdout",
     "output_type": "stream",
     "text": [
      "13547\n"
     ]
    }
   ],
   "source": [
    "#17. Crea una función que tome una lista de dígitos y devuelva el número correspondiente. Por ejemplo, [5,7,2] corresponde al número quinientos setenta y dos (572). Usa la función reduce()\n",
    "\n",
    "from functools import reduce\n",
    "\n",
    "def lista_a_numero (digitos) :\n",
    "\n",
    "    \"\"\"\n",
    "    Convierte una lista de dígitos (enteros) en un número entero\n",
    "\n",
    "    Args : \n",
    "          dígitos: Una lista de enteros, donde cada entero es un dígito\n",
    "\n",
    "     Returns: \n",
    "         El número entero correspondinete a la lista de digitos\n",
    "    \"\"\"\n",
    "\n",
    "    return reduce (lambda acumulador , digito : acumulador * 10 + digito, digitos,0)\n",
    "\n",
    "#Ejemplo \n",
    "lista_digitos = [1, 3, 5, 4, 7]\n",
    "numero_resultante = lista_a_numero (lista_digitos)\n",
    "print (numero_resultante)"
   ]
  },
  {
   "cell_type": "code",
   "execution_count": 16,
   "id": "925ba35d",
   "metadata": {},
   "outputs": [
    {
     "name": "stdout",
     "output_type": "stream",
     "text": [
      "[{'nombre': 'Antonio', 'edad': 20, 'calificacion': 95}, {'nombre': 'Jaime', 'edad': 52, 'calificacion': 90}]\n"
     ]
    }
   ],
   "source": [
    "#18. Escribe un programa en Python que cree una lista de diccionarios que contenga información de estudiantes (nombre, edad, calificación) y use la función filter para extraer a los estudiantes con una calificación mayor o igual a 90. Usa la función filter()\n",
    "\n",
    "# creamos la lista de diciionarios con la información de los estudiantes\n",
    "\n",
    "estudiantes = [ {\"nombre\" : \"Pepa\", \"edad\" : 36, \"calificacion\": 50}, {\"nombre\" : \"Antonio\", \"edad\" : 20, \"calificacion\": 95},{\"nombre\" : \"Alicia\", \"edad\" : 80, \"calificacion\": 70}, {\"nombre\" : \"Jaime\", \"edad\" : 52, \"calificacion\": 90} ]\n",
    "\n",
    "# Definir la función para filtrar\n",
    "\n",
    "def calificacion_alta (estudiantes):\n",
    "    \"\"\"\n",
    "    Devuelve una lista con los estudiantes que han sacado una nota igual o mayor a 90\n",
    "\n",
    "    Args:\n",
    "        estudiantes : El listado de estudicantes\n",
    "\n",
    "    Returns: \n",
    "         Listado de estudcinates con nota igual o superior a 90\n",
    "    \"\"\"\n",
    "    return estudiantes [\"calificacion\"] >=90\n",
    "\n",
    "\n",
    "#Ejemplo\n",
    "estudiantes_aprobados = list (filter (calificacion_alta, estudiantes))\n",
    "print (estudiantes_aprobados)\n",
    "\n"
   ]
  },
  {
   "cell_type": "code",
   "execution_count": 20,
   "id": "bf7d78be",
   "metadata": {},
   "outputs": [
    {
     "name": "stdout",
     "output_type": "stream",
     "text": [
      "[7, 3, 15, 9, 75, 23, 67]\n"
     ]
    }
   ],
   "source": [
    "#19. Crea una función lambda que filtre los números impares de una lista dada.\n",
    "\n",
    "numeros= [4, 7, 3, 15, 9, 62, 75, 23, 74, 67, 92]\n",
    "          \n",
    "numeros_impares = list (filter (lambda x : x % 2 != 0, numeros))\n",
    "print (numeros_impares)"
   ]
  },
  {
   "cell_type": "code",
   "execution_count": 23,
   "id": "76fcc51b",
   "metadata": {},
   "outputs": [
    {
     "name": "stdout",
     "output_type": "stream",
     "text": [
      "[45, 32, 125]\n"
     ]
    }
   ],
   "source": [
    "#20. Para una lista con elementos tipo integer y string obtén una nueva lista sólo con los valores int. Usa la función filter()\n",
    "\n",
    "lista_numeros_texto = [\"hasta_luego\", 45, 32, \"preferido\", 125, \"genio\"]\n",
    "\n",
    "lista_numeros = list (filter (lambda x : isinstance (x, int), lista_numeros_texto))\n",
    "print (lista_numeros)"
   ]
  },
  {
   "cell_type": "code",
   "execution_count": 32,
   "id": "8b7bb674",
   "metadata": {},
   "outputs": [
    {
     "name": "stdout",
     "output_type": "stream",
     "text": [
      "8\n"
     ]
    }
   ],
   "source": [
    "#21. Crea una función que calcule el cubo de un número dado mediante una función lambda\n",
    "\n",
    "cubo = lambda x : x**3\n",
    "\n",
    "print (cubo(x))\n",
    "\n",
    "x= 2\n",
    "\n"
   ]
  },
  {
   "cell_type": "code",
   "execution_count": 36,
   "id": "55af062f",
   "metadata": {},
   "outputs": [
    {
     "name": "stdout",
     "output_type": "stream",
     "text": [
      "4183200\n"
     ]
    }
   ],
   "source": [
    "#22. Dada una lista numérica, obtén el producto total de los valores de dicha lista.Usa la función reduce() .\n",
    "\n",
    "lista_num = [3, 25, 12, 56, 83]\n",
    "producto_total = reduce (lambda x, y :x * y, lista_num)\n",
    "print (producto_total)"
   ]
  },
  {
   "cell_type": "code",
   "execution_count": 39,
   "id": "8e2eaa48",
   "metadata": {},
   "outputs": [
    {
     "name": "stdout",
     "output_type": "stream",
     "text": [
      "El cielo es azul\n"
     ]
    }
   ],
   "source": [
    "# 23. Concatena una lista de palabras.Usa la función reduce() .\n",
    "\n",
    "lista_palabras = [\"El\", \" \", \"cielo\", \" \", \"es\", \" \", \"azul\"]\n",
    "concatenar = lambda acumulador , palabra : acumulador +palabra\n",
    "cadena_final = reduce (concatenar, lista_palabras)\n",
    "print (cadena_final)"
   ]
  },
  {
   "cell_type": "code",
   "execution_count": 41,
   "id": "43ee660b",
   "metadata": {},
   "outputs": [
    {
     "name": "stdout",
     "output_type": "stream",
     "text": [
      "1438\n"
     ]
    }
   ],
   "source": [
    "#24. Calcula la diferencia total en los valores de una lista. Usa la función reduce() .\n",
    "\n",
    "lista_numeros = [1543, 35, 3, 21, 4, 42]\n",
    "resta_total = reduce (lambda x, y : x-y, lista_numeros)\n",
    "print (resta_total)"
   ]
  },
  {
   "cell_type": "code",
   "execution_count": 44,
   "id": "8a5034ae",
   "metadata": {},
   "outputs": [
    {
     "name": "stdout",
     "output_type": "stream",
     "text": [
      "29\n"
     ]
    }
   ],
   "source": [
    "#25. Crea una función que cuente el número de caracteres en una cadena de texto dada.\n",
    "\n",
    "cadena_texto = \"El que tiene boca se equivoca\"\n",
    "numero_caracteres = len (cadena_texto)\n",
    "print (numero_caracteres)"
   ]
  },
  {
   "cell_type": "code",
   "execution_count": 48,
   "id": "f68db8e1",
   "metadata": {},
   "outputs": [
    {
     "name": "stdout",
     "output_type": "stream",
     "text": [
      "5\n"
     ]
    }
   ],
   "source": [
    "#26. Crea una función lambda que calcule el resto de la división entre dos números dados.\n",
    "\n",
    "resto_division = lambda dividendo, divisor : dividendo %divisor\n",
    "print (resto_division (12, 7))"
   ]
  },
  {
   "cell_type": "code",
   "execution_count": 52,
   "id": "291e8721",
   "metadata": {},
   "outputs": [
    {
     "name": "stdout",
     "output_type": "stream",
     "text": [
      "3.0\n"
     ]
    }
   ],
   "source": [
    "#27. Crea una función que calcule el promedio de una lista de números.\n",
    "\n",
    "def calcular_promedio (lista_num) :\n",
    "    \"\"\"\n",
    "    Calcula el promedio de una lista de números\n",
    "\n",
    "    Args:\n",
    "        lista_num : Una lista de números que contiene números enteros o flotantes\n",
    "\n",
    "    Returns: \n",
    "        El promedio de los números de la lista \n",
    "        Devuelve 0 si la la lista está vacía para evitar una división por cero\n",
    "    \"\"\"\n",
    "    if not lista_num:\n",
    "        return 0\n",
    "    \n",
    "    suma_total = sum (lista_num)\n",
    "    cantidad_elementos = len (lista_num)\n",
    "    promedio = suma_total /cantidad_elementos\n",
    "    return promedio\n",
    "\n",
    "# Ejemplo\n",
    "lista_num = [1, 2, 3, 4, 5]\n",
    "promedio_lista = calcular_promedio (lista_num)\n",
    "print (promedio_lista)"
   ]
  },
  {
   "cell_type": "code",
   "execution_count": 56,
   "id": "505b5201",
   "metadata": {},
   "outputs": [
    {
     "name": "stdout",
     "output_type": "stream",
     "text": [
      "4\n"
     ]
    }
   ],
   "source": [
    "#28. Crea una función que busque y devuelva el primer elemento duplicado en una lista dada.\n",
    "\n",
    "def encontrar_primer_duplicado (lista):\n",
    "\n",
    "    \"\"\"\n",
    "    Encuentra y devuelve el primer elemento duplicado en una lista\n",
    "\n",
    "    Args : \n",
    "        lista: la lista en la que buscar el duplicado\n",
    "\n",
    "    Returns :\n",
    "\n",
    "        El primer elemento duplicado encontrado de la lista, o None si no hay duplicados\n",
    "    \"\"\"\n",
    "    elementos_vistos = set ()\n",
    "    for elemento in lista:\n",
    "        if elemento in elementos_vistos:\n",
    "            return elemento\n",
    "        else:\n",
    "            elementos_vistos.add (elemento)\n",
    "    return None\n",
    "\n",
    "# Ejemplo\n",
    "\n",
    "lista = [1, 7, 4, 3, 4, 1]\n",
    "primer_duplicado = encontrar_primer_duplicado (lista)\n",
    "print (primer_duplicado)"
   ]
  },
  {
   "cell_type": "code",
   "execution_count": 64,
   "id": "3b07fe22",
   "metadata": {},
   "outputs": [
    {
     "name": "stdout",
     "output_type": "stream",
     "text": [
      "####6789\n"
     ]
    }
   ],
   "source": [
    "#29. Crea una función que convierta una variable en una cadena de texto y enmascare todos los caracteres con el carácter '#', excepto los últimos cuatro.\n",
    "\n",
    "def enmascarar_cadena (variable):\n",
    "\n",
    "    \"\"\"\n",
    "    Convierte una variable a cadena y enmascara todos los caracteres con el caracter # excepto los últimos cuatro\n",
    "\n",
    "    Args: \n",
    "        Variable: La variable a enmascarar\n",
    "\n",
    "    Returns: \n",
    "         Una cadena con los caracteres enmascarados excepto los 4 últimos caracteres\n",
    "    \n",
    "    \"\"\"\n",
    "\n",
    "    cadena = str (variable)\n",
    "    if len(cadena)<4:\n",
    "        return cadena\n",
    "    else:\n",
    "        enmascarar_caracteres = \"#\" * ( len (cadena)-4)\n",
    "        ultimos_cuatro_caracteres = cadena [-4:]\n",
    "        return enmascarar_caracteres + ultimos_cuatro_caracteres\n",
    "    \n",
    "# Ejemplo\n",
    "variable = 23456789\n",
    "resultado = enmascarar_cadena (variable)\n",
    "print (resultado)"
   ]
  },
  {
   "cell_type": "code",
   "execution_count": 75,
   "id": "c42c8552",
   "metadata": {},
   "outputs": [
    {
     "name": "stdout",
     "output_type": "stream",
     "text": [
      "True\n"
     ]
    }
   ],
   "source": [
    "#30. Crea una función que determine si dos palabras son anagramas, es decir, si están formadas por las mismas letras pero en diferente orden.\n",
    "\n",
    "def son_anagramas (palabra1, palabra2) :\n",
    "\n",
    "    \"\"\"\n",
    "    Determina si dos palabras son anagramas\n",
    "\n",
    "    Returns:\n",
    "       True si son anagramas, False si no lo son\n",
    "    \"\"\"\n",
    "\n",
    "    palabra1 = palabra1.lower ().replace (\" \", \"\")\n",
    "    palabra2 = palabra2.lower ().replace (\" \", \"\")\n",
    "\n",
    "    if len (palabra1)  != len(palabra2) :\n",
    "         return False\n",
    "    \n",
    "    return sorted (palabra1) == sorted (palabra2)\n",
    "\n",
    "#Ejemplo\n",
    "\n",
    "print (son_anagramas (\"marcos\", \"socram\"))\n"
   ]
  },
  {
   "cell_type": "code",
   "execution_count": 6,
   "id": "7309253f",
   "metadata": {},
   "outputs": [
    {
     "name": "stdout",
     "output_type": "stream",
     "text": [
      "Juan ha sido encontrado en la lista\n"
     ]
    }
   ],
   "source": [
    "#31. Crea una función que solicite al usuario ingresar una lista de nombres y luego solicite un nombre para buscar en esa lista. Si el nombre está en la lista, se imprime un mensaje indicando que fue encontrado, de lo contrario, se lanza una excepción.\n",
    "\n",
    "def crear_lista_buscar_nombre ():\n",
    "    \"\"\"\n",
    "    Solicita al usuario que introduzca una lista de nombres, luego pide un nombre para buscar. Si el nombre está ne la lista imprimir un mensaje , si no lanzar una excepción.\n",
    "    \"\"\"\n",
    "    \n",
    "    nombres_str = input (\"Introduce una lista de nombres separada por comas (ejemplo: Pepe, Noelia, Carlos):\")\n",
    "    lista_nombres = [nombre.strip () for nombre in nombres_str.split (\",\")]\n",
    "\n",
    "    nombre_buscado = input (\"Ingresa el nombre que quieres buscar:\")\n",
    "\n",
    "    if nombre_buscado in lista_nombres:\n",
    "         print (f\"{nombre_buscado} ha sido encontrado en la lista\")\n",
    "    else:\n",
    "        raise ValueError (f\"Error: el nombre buscado no se encuentra en la lista\")\n",
    "    \n",
    "crear_lista_buscar_nombre ()\n",
    "\n"
   ]
  },
  {
   "cell_type": "code",
   "execution_count": null,
   "id": "e4a85cb7",
   "metadata": {},
   "outputs": [
    {
     "name": "stdout",
     "output_type": "stream",
     "text": [
      " Ana Sánchez: La persona Ana Sánchez no trabaja aquí\n"
     ]
    }
   ],
   "source": [
    "#32. Crea una función que tome un nombre completo y una lista de empleados, busque el nombre completo en la lista y devuelve el puesto del empleado si está en la lista, de lo contrario, devuelve un mensaje indicando que la persona no trabaja aquí.\n",
    "\n",
    "def buscar_puesto_empleado (nombre_completo, lista_empleados):\n",
    "    \"\"\"\n",
    "    Busca un nombre completo en una lista de empleados y el puesto que ocupa. En el caso de que no se encuentre el nombre se lanza un mensaje de error\n",
    "\n",
    "    Args:\n",
    "        nombre_completo (str) : Nombre completo del empleado a buscar\n",
    "        lista_empleados (str) : Listado de empleados \n",
    "\n",
    "    Returns: \n",
    "       str: el puesto del empleado si se encuentra en la lista,. En caso contrario se imprime un mensaje especificando que esa persona no trabaja allí\n",
    "    \"\"\"\n",
    "\n",
    "    for empleado in lista_empleados:\n",
    "        if empleado [\"nombre\"] ==nombre_completo:\n",
    "            return empleado [\"puesto\"]\n",
    "    return f\"La persona {nombre_completo} no trabaja aquí\"\n",
    "\n",
    "# Ejemplo\n",
    "\n",
    "lista_empleados = [{\"nombre\": \"Juan Arribas\", \"puesto\": \"médico\"},{\"nombre\": \"María Sánchez\", \"puesto\": \"diseñadora\"},{\"nombre\": \"Ana Ortiz\", \"puesto\": \"escritora\"}, ]\n",
    "nombre_buscado = \"Ana Sánchez\"\n",
    "puesto = buscar_puesto_empleado (nombre_buscado, lista_empleados)\n",
    "print (f\" {nombre_buscado}: {puesto}\")"
   ]
  },
  {
   "cell_type": "code",
   "execution_count": 22,
   "id": "43cc0fdb",
   "metadata": {},
   "outputs": [
    {
     "name": "stdout",
     "output_type": "stream",
     "text": [
      "[37, 11, 24, 41, 103]\n"
     ]
    }
   ],
   "source": [
    "# 33. Crea una función lambda que sume elementos correspondientes de dos listas dadas.\n",
    "\n",
    "lista1 = [3, 7, 15, 22, 35]\n",
    "lista2 = [34, 4, 9, 19, 68]\n",
    "\n",
    "suma_correspondiente = list(map(lambda x, y: x + y, lista1, lista2))\n",
    "print(suma_correspondiente)\n"
   ]
  },
  {
   "cell_type": "code",
   "execution_count": null,
   "id": "47e5a896",
   "metadata": {},
   "outputs": [
    {
     "data": {
      "text/plain": [
       "{'longitud_tronco': 2, 'numero_ramas': 2, 'longitudes_ramas': [2, 1]}"
      ]
     },
     "execution_count": 96,
     "metadata": {},
     "output_type": "execute_result"
    }
   ],
   "source": [
    "#34. Crea la clase Arbol , define un árbol genérico con un tronco y ramas como atributos. Los métodos disponibles son: crecer_tronco , nueva_rama , crecer_ramas , quitar_rama e info_arbol . El objetivo es implementar estos métodos para manipular la estructura del árbol.\n",
    "\n",
    "\n",
    "\n",
    "# Código a seguir: \n",
    "#1. Inicializar un árbol con un tronco de longitud 1 y una lista vacía de ramas.\n",
    "##2. Implementar el método crecer_tronco para aumentar la longitud del tronco en una unidad.\n",
    "#3. Implementar el método nueva_rama para agregar una nueva rama de longitud 1 a la lista de ramas.\n",
    "##4. Implementar el método crecer_ramas para aumentar en una unidad la longitud de todas las ramas existentes.\n",
    "#5. Implementar el método quitar_rama para eliminar una rama en una posición específica.\n",
    "#6. Implementar el método\n",
    "#info_arbol para devolver información sobre la longitud del tronco, el número de ramas y las longitudes de las mismas.\n",
    "\n",
    "\n",
    "\n",
    "from operator import add\n",
    "\n",
    "\n",
    "class Arbol:\n",
    "    def __init__(self, tronco=1, ramas=None):\n",
    "        if ramas is None:\n",
    "            ramas = []\n",
    "        self.tronco = tronco\n",
    "        self.ramas = ramas\n",
    "\n",
    "    def crecer_tronco(self):\n",
    "        self.tronco += 1\n",
    "        return f\"La nueva longitud del tronco es {self.tronco}\"\n",
    "    \n",
    "    def nueva_rama(self):\n",
    "        self.ramas.append(1)\n",
    "        return f\"Rama añadida. Ahora hay {len(self.ramas)} ramas.\"\n",
    "    \n",
    "    def crecer_ramas(self):\n",
    "        self.ramas = [r + 1 for r in self.ramas]\n",
    "        return f\"Las ramas han crecido. Longitudes actuales: {self.ramas}\"\n",
    "    \n",
    "    def quitar_rama(self, indice):\n",
    "        if 0 <= indice < len(self.ramas):\n",
    "            self.ramas.pop(indice)\n",
    "            return f\"Rama en posición {indice} eliminada.\"\n",
    "        else:\n",
    "            return \"Índice de rama no válido.\"\n",
    "    \n",
    "    def info_arbol(self):\n",
    "        return {\n",
    "            \"longitud_tronco\": self.tronco,\n",
    "            \"numero_ramas\": len(self.ramas),\n",
    "            \"longitudes_ramas\": self.ramas\n",
    "        }\n",
    "\n",
    "#Caso de uso:\n",
    "#1. Crear un árbol.\n",
    "#2. Hacer crecer el tronco del árbol una unidad.\n",
    "#3. Añadir una nueva rama al árbol.~\n",
    "# 4. Hacer crecer todas las ramas del árbol una unidad.\n",
    "#5. Añadir dos nuevas ramas al árbol.\n",
    "#6. Retirar la rama situada en la posición 2.\n",
    "#7. Obtener información sobre el árbol.\n",
    "\n",
    "arbol1 = Arbol (1, None)\n",
    "arbol1.crecer_tronco ()\n",
    "arbol1.nueva_rama ()\n",
    "arbol1.crecer_ramas ()\n",
    "arbol1.nueva_rama ()\n",
    "arbol1.nueva_rama ()\n",
    "arbol1.quitar_rama (2)\n",
    "arbol1.info_arbol ()\n",
    " "
   ]
  },
  {
   "cell_type": "code",
   "execution_count": 114,
   "id": "62057d6f",
   "metadata": {},
   "outputs": [
    {
     "name": "stdout",
     "output_type": "stream",
     "text": [
      "Se ingresaron 20 euros en su cuenta\n"
     ]
    },
    {
     "ename": "ValueError",
     "evalue": "Saldo insuficiente",
     "output_type": "error",
     "traceback": [
      "\u001b[31m---------------------------------------------------------------------------\u001b[39m",
      "\u001b[31mValueError\u001b[39m                                Traceback (most recent call last)",
      "\u001b[36mCell\u001b[39m\u001b[36m \u001b[39m\u001b[32mIn[114]\u001b[39m\u001b[32m, line 47\u001b[39m\n\u001b[32m     45\u001b[39m usuario_Bob = UsuarioBanco (\u001b[33m\"\u001b[39m\u001b[33mBob\u001b[39m\u001b[33m\"\u001b[39m, \u001b[32m50\u001b[39m, \u001b[38;5;28;01mTrue\u001b[39;00m)\n\u001b[32m     46\u001b[39m usuario_Bob.agregar_dinero (\u001b[32m20\u001b[39m)\n\u001b[32m---> \u001b[39m\u001b[32m47\u001b[39m \u001b[43musuario_Bob\u001b[49m\u001b[43m.\u001b[49m\u001b[43mtransferir_dinero\u001b[49m\u001b[43m \u001b[49m\u001b[43m(\u001b[49m\u001b[43musuario_Alicia\u001b[49m\u001b[43m,\u001b[49m\u001b[43m \u001b[49m\u001b[32;43m80\u001b[39;49m\u001b[43m)\u001b[49m\n\u001b[32m     48\u001b[39m usuario_Alicia. retirar_dinero (\u001b[32m50\u001b[39m)\n",
      "\u001b[36mCell\u001b[39m\u001b[36m \u001b[39m\u001b[32mIn[114]\u001b[39m\u001b[32m, line 27\u001b[39m, in \u001b[36mUsuarioBanco.transferir_dinero\u001b[39m\u001b[34m(self, destinatario, cantidad_transferida)\u001b[39m\n\u001b[32m     25\u001b[39m \u001b[38;5;28;01mdef\u001b[39;00m\u001b[38;5;250m \u001b[39m\u001b[34mtransferir_dinero\u001b[39m (\u001b[38;5;28mself\u001b[39m, destinatario, cantidad_transferida):\n\u001b[32m     26\u001b[39m     \u001b[38;5;28;01mif\u001b[39;00m \u001b[38;5;28mself\u001b[39m.saldo < cantidad_transferida:\n\u001b[32m---> \u001b[39m\u001b[32m27\u001b[39m         \u001b[38;5;28;01mraise\u001b[39;00m \u001b[38;5;167;01mValueError\u001b[39;00m(\u001b[33m\"\u001b[39m\u001b[33mSaldo insuficiente\u001b[39m\u001b[33m\"\u001b[39m)\n\u001b[32m     28\u001b[39m         \u001b[38;5;28mprint\u001b[39m (\u001b[33mf\u001b[39m\u001b[33m\"\u001b[39m\u001b[33mNo se puede realizar la transferencia por haber saldo insuficiente en la cuenta origen\u001b[39m\u001b[33m\"\u001b[39m)\n\u001b[32m     29\u001b[39m     \u001b[38;5;28;01melse\u001b[39;00m:\n",
      "\u001b[31mValueError\u001b[39m: Saldo insuficiente"
     ]
    }
   ],
   "source": [
    "#36.  Crea la clase UsuarioBanco ,representa a un usuario de un banco con su nombre, saldo y si tiene o no cuenta corriente. Proporciona métodos para realizar operaciones como retirar dinero, transferir dinero desde otro usuario y agregar dinero al saldo.\n",
    "\n",
    "#Código a seguir:\n",
    "#1. Inicializar un usuario con su nombre, saldo y si tiene o no cuenta corriente mediante True y False .\n",
    "#2. Implementar el método retirar_dinero para retirar dinero del saldo del usuario. Lanzará un error en caso de no poder hacerse.\n",
    "#3. Implementar el método transferir_dinero para realizar una transferencia desde otro usuario al usuario actual..Lanzará un error en caso de no poder hacerse.\n",
    "#4. Implementar el método agregar_dinero para agregar dinero al saldo del usuario.\n",
    "\n",
    "class UsuarioBanco:\n",
    "    \n",
    "    def __init__(self, nombre, saldo, tiene_cuenta_corriente):\n",
    "                         \n",
    "        self.nombre = nombre\n",
    "        self.saldo = saldo\n",
    "        self.tiene_cuenta_corriente = tiene_cuenta_corriente\n",
    "\n",
    "    def retirar_dinero (self,  retirada_dinero ):\n",
    "    \n",
    "        if retirada_dinero >self.saldo:\n",
    "            print (f\"Fondos insuficientes. No puedes retirar {retirada_dinero}euros. Saldo actual : {self.saldo}euros\")\n",
    "        else:\n",
    "            self.saldo -= retirada_dinero\n",
    "            print (f\"Se han retirado {retirada_dinero}\")\n",
    "\n",
    "    def transferir_dinero (self, destinatario, cantidad_transferida):\n",
    "        if self.saldo < cantidad_transferida:\n",
    "            raise ValueError(\"Saldo insuficiente\")\n",
    "            print (f\"No se puede realizar la transferencia por haber saldo insuficiente en la cuenta origen\")\n",
    "        else:\n",
    "            self.saldo -= cantidad_transferida\n",
    "            destinatario.saldo += cantidad_transferida\n",
    "            print(f\"Transferencia exitosa de  {self.nombre}  a {destinatario.nombre} por {cantidad_transferida}\")\n",
    "        \n",
    "    def agregar_dinero (self, ingreso):\n",
    "        self.saldo += ingreso\n",
    "        print (f\"Se ingresaron {ingreso} euros en su cuenta\")\n",
    "\n",
    "        #Caso de uso:\n",
    "#1. Crear dos usuarios: \"Alicia\" con saldo inicial de 100 y \"Bob\" con saldo inicial de 50, ambos con cuenta corriente.\n",
    "#2. Agregar 20 unidades de saldo de \"Bob\".\n",
    "#3. Hacer una transferencia de 80 unidades desde \"Bob\" a \"Alicia\".\n",
    "#4. Retirar 50 unidades de saldo a \"Alicia\".\n",
    "\n",
    "usuario_Alicia = UsuarioBanco (\"Alicia\", 100, True)\n",
    "usuario_Bob = UsuarioBanco (\"Bob\", 50, True)\n",
    "usuario_Bob.agregar_dinero (20)\n",
    "usuario_Bob.transferir_dinero (usuario_Alicia, 80)\n",
    "usuario_Alicia. retirar_dinero (50)\n",
    "    \n",
    "      "
   ]
  },
  {
   "cell_type": "code",
   "execution_count": null,
   "id": "18119e70",
   "metadata": {},
   "outputs": [
    {
     "data": {
      "text/plain": [
       "'Python es terrorificamente sencillo , muy sencillo'"
      ]
     },
     "execution_count": 139,
     "metadata": {},
     "output_type": "execute_result"
    }
   ],
   "source": [
    "#37. Crea una función llamada procesar_texto que procesa un texto según la opción especificada: contar_palabras , reemplazar_palabras , eliminar_palabra . Estas opciones son otras funciones que tenemos que definir primero y llamar dentro de la función procesar_texto \n",
    "\n",
    "#Código a seguir:\n",
    "#1. Crear una función contar_palabras para contar el número de veces que aparece cada palabra en el texto. Tiene que devolver un diccionario.\n",
    "#2. Crear una función reemplazar_palabras para remplazar una palabra_original del texto por una palabra_nueva . Tiene que devolver el texto con el remplazo de palabras.\n",
    "#3. Crear una función eliminar_palabra para eliminar una palabra del texto. Tiene que devolver el texto con la palabra eliminada.\n",
    "#4. Crear la función procesar_texto que tome un texto, una opción(entre \"contar\", \"reemplazar\", \"eliminar\") y un número de argumentos variable según la opción indicada.\n",
    "\n",
    "def contar_frecuencia_palabras (texto):\n",
    "    \"\"\"\n",
    "    Cuenta la frecuencia de cada palabra\n",
    "\n",
    "    Args:\n",
    "        texto (str): Una cadena de caracteres que contiene el texto a analizar\n",
    "\n",
    "    Returns: \n",
    "        un diciionario donde las claves son las palabras y los valores  son sus frecuencias\n",
    "    \"\"\"\n",
    "\n",
    "    palabras = texto.split ()\n",
    "    frecuencias = {}\n",
    "    for palabra in palabras:\n",
    "        if palabra in frecuencias:\n",
    "            frecuencias [palabra] +=1\n",
    "        else:\n",
    "            frecuencias [palabra] = 1\n",
    "    return frecuencias\n",
    "\n",
    "def reemplazar_palabras (texto, palabra_original, palabra_nueva):\n",
    "     \"\"\"\n",
    "     Reemplaza todas las ocurrencias de una palabra en un texto por una palabra nueva\n",
    "\n",
    "     Args:\n",
    "        texto (str): Una cadena de caracteres que contiene el texto a analizar\n",
    "        palabra_original (str): La palabra que se dea reemplazar\n",
    "        palabra_nueva (str):La palabra por la que se desea reemplazar\n",
    "\n",
    "    Returns: \n",
    "        El texto con el reemplazo de las palabras realizado\n",
    "    \"\"\"\n",
    "     return texto.replace (palabra_original, palabra_nueva)\n",
    "\n",
    "def eliminar_palabra (texto, palabra_eliminada):\n",
    "    \"\"\"\n",
    "    Elimina todas las ocurrencias de una palabra especifica en un texto\n",
    "\n",
    "    Args:\n",
    "        texto (str): Una cadena de caracteres que contiene el texto a analizar\n",
    "        palabra_eliminada (str): Palabra a eliminar del texto\n",
    "\n",
    "    Returns: \n",
    "        El texto con la palabra especificada eliminada\n",
    "    \"\"\"\n",
    "    return texto.replace (palabra_eliminada, \"\")\n",
    "\n",
    "def procesar_texto (texto, operacion, palabra_1=None, palabra_2=None):\n",
    "    if operacion == \"contar\":\n",
    "        return contar_frecuencia_palabras(texto)\n",
    "    elif operacion == \"reemplazar\":\n",
    "        if palabra_1 is None or palabra_2 is None:\n",
    "            raise ValueError(\"Para reemplazar, debes proporcionar palabra_original y palabra_nueva\")\n",
    "        return reemplazar_palabras(texto, palabra_1, palabra_2)\n",
    "    elif operacion == \"eliminar\":\n",
    "        if palabra_1 is None:\n",
    "            raise ValueError(\"Para eliminar, debes proporcionar la palabra a eliminar\")\n",
    "        return eliminar_palabra(texto, palabra_1)\n",
    "    else:\n",
    "        raise ValueError(\"Operación no reconocida. Usa 'contar', 'reemplazar' o 'eliminar'.\")\n",
    "    \n",
    "    #Caso de uso:\n",
    "#Comprueba el funcionamiento completo de la función procesar_texto\n",
    "\n",
    "texto1 = \"Python es terrorificamente complicado , muy complicado\"\n",
    "palabra_original1 = \"complicado\"\n",
    "palabra_nueva1 = \"sencillo\"\n",
    "palabra_eliminada1 = \"terrorificamente\"\n",
    "\n",
    "procesar_texto (texto1, \"eliminar\", palabra_eliminada1, None)\n",
    "procesar_texto (texto1, \"contar\")\n",
    "procesar_texto (texto1, \"reemplazar\", palabra_original1, palabra_nueva)\n",
    "              "
   ]
  },
  {
   "cell_type": "code",
   "execution_count": 141,
   "id": "bd3f9171",
   "metadata": {},
   "outputs": [
    {
     "name": "stdout",
     "output_type": "stream",
     "text": [
      "La hora que introdujiste es: 12:05\n",
      "Es de mañana\n"
     ]
    }
   ],
   "source": [
    "# 38. Genera un programa que nos diga si es de noche, de día o tarde según la hora proporcionada por el usuario.\n",
    "\n",
    "hora_usuario = input(\"Por favor, introduce la hora (por ejemplo 14:35): \")\n",
    "print(f\"La hora que introdujiste es: {hora_usuario}\")\n",
    "\n",
    "try:\n",
    "    partes = hora_usuario.split(\":\")\n",
    "    if len(partes) != 2:\n",
    "        raise ValueError\n",
    "    hora = int(partes[0])\n",
    "    minuto = int(partes[1])\n",
    "    if not (0 <= hora < 24 and 0 <= minuto < 60):\n",
    "        raise ValueError\n",
    "    hora_decimal = hora + minuto / 60\n",
    "\n",
    "    if 6 <= hora_decimal < 17:\n",
    "        print(\"Es de mañana\")\n",
    "    elif 17 <= hora_decimal < 20:\n",
    "        print(\"Es de tarde\")\n",
    "    else:\n",
    "        print(\"Es de noche\")\n",
    "except Exception as e:\n",
    "    print(\"Formato de hora no válido. Por favor, introduce la hora como HH:MM.\")\n",
    "       "
   ]
  },
  {
   "cell_type": "code",
   "execution_count": 149,
   "id": "674e35a2",
   "metadata": {},
   "outputs": [
    {
     "name": "stdout",
     "output_type": "stream",
     "text": [
      "La calificacion textual es : Calificación invalida. Por favor ingrese un número de 0 a 100\n"
     ]
    }
   ],
   "source": [
    "#39.# Escribe un programa que determine qué calificación en texto tiene un alumno en base a su calificación numérica.\n",
    "#Las reglas de calificación son:\n",
    "#- 0 - 69 insuficiente\n",
    "#- 70 - 79 bien\n",
    "#- 80 - 89 muy bien\n",
    "#- 90 - 100 excelente\n",
    "\n",
    "calificacion_numerica =int (input(\"Introduzca la claificación numérica del alumno (0-100): \"))\n",
    "\n",
    "if 90 <= calificacion_numerica <= 100:\n",
    "    calificacion_textual = \"Excelente\"\n",
    "elif 80 <= calificacion_numerica <= 89:\n",
    "     calificacion_textual = \"Muy bien\"\n",
    "elif 70 <= calificacion_numerica <= 79:\n",
    "     calificacion_textual = \"Bien\"\n",
    "elif 0 <= calificacion_numerica <= 69:\n",
    "     calificacion_textual = \"Insuficiente\"\n",
    "else:\n",
    "    calificacion_textual = \"Calificación invalida. Por favor ingrese un número de 0 a 100\"\n",
    "\n",
    "print (f\"La calificacion textual es : {calificacion_textual}\")"
   ]
  },
  {
   "cell_type": "code",
   "execution_count": 160,
   "id": "01353f7b",
   "metadata": {},
   "outputs": [
    {
     "name": "stdout",
     "output_type": "stream",
     "text": [
      "40.0\n",
      "36\n",
      "452.3893421169302\n"
     ]
    }
   ],
   "source": [
    "#40. Escribe una función que tome dos parámetros: figura (una cadena que puede ser \"rectangulo\" , \"circulo\" o \"triangulo\" ) y datos (una tupla con los datos necesarios para calcular el área de la figura)\n",
    "\n",
    "import math\n",
    "\n",
    "def calcular_area_figura (figura, datos):\n",
    "    \"\"\"\n",
    "    Calcular el área de un afigura geométrica (triángulo, circulo o cuadrado)\n",
    "\n",
    "    Args:\n",
    "        figura (str): El nombre de la figura (triángulo, circulo o cuadrado)\n",
    "        datos (tupla_): Tupla con los datos necesarios para calcular el area\n",
    "                                -para triángulo (base, altura)\n",
    "                                -para circulo  (radio, )\n",
    "                                -para rectanguolo(lado1, lado2)\n",
    "\n",
    "    Returns: \n",
    "         float  o None: El ñarea calculada de la figura , o None si la figura no es válida\n",
    "    \"\"\"\n",
    "\n",
    "    if figura.lower() == \"triangulo\":\n",
    "        if len(datos) == 2:\n",
    "            base, altura = datos\n",
    "            return 0.5 * base * altura\n",
    "        else:\n",
    "            print(\"Error: para el triángulo se requieren base y altura\")\n",
    "            return None\n",
    "    elif figura.lower() == \"circulo\":\n",
    "        if len(datos) == 1:\n",
    "            radio = datos[0]\n",
    "            return math.pi * (radio ** 2)\n",
    "        else:\n",
    "            print(\"Error: para el circulo se requiere el radio\")\n",
    "            return None\n",
    "    elif figura.lower() == \"rectangulo\":\n",
    "        if len(datos) == 2:\n",
    "            base, altura = datos\n",
    "            return base * altura\n",
    "        else:\n",
    "            print(\"Error: para el rectángulo se requieren base y altura\")\n",
    "            return None\n",
    "    else:\n",
    "        print(\"Figura no válida. Usa 'triangulo', 'circulo' o 'rectangulo'.\")\n",
    "        return None\n",
    "    \n",
    "# Ejemplo\n",
    "area_triangulo =  calcular_area_figura (\"triangulo\", (20,4))\n",
    "print (area_triangulo)\n",
    "area_rectangulo = calcular_area_figura (\"rectangulo\", (12,3))\n",
    "print (area_rectangulo)\n",
    "area_circulo = calcular_area_figura (\"circulo\", (12,))  \n",
    "print (area_circulo)                                   \n",
    "        \n",
    "             \n"
   ]
  },
  {
   "cell_type": "code",
   "execution_count": 10,
   "id": "863b33d3",
   "metadata": {},
   "outputs": [
    {
     "name": "stdout",
     "output_type": "stream",
     "text": [
      "Se aplicó un descuento de : 89.00\n",
      "El precio final de la compra es : 700.00\n"
     ]
    }
   ],
   "source": [
    "# 41. En este ejercicio, se te pedirá que escribas un programa en Python que utilice condicionales para determinar el monto final de una compra en una tienda en línea, después de aplicar un descuento. El programa debe hacer lo siguiente:\n",
    "#1. Solicita al usuario que ingrese el precio original de un artículo.\n",
    "#2. Pregunta al usuario si tiene un cupón de descuento (respuesta sí o no).\n",
    "##3. Si el usuario responde que sí, solicita que ingrese el valor del cupón de descuento.\n",
    "#4. Aplica el descuento al precio original del artículo, siempre y cuando el valor del cupón sea válido (es decir, mayor¡ a cero). Por ejemplo, descuento de 15€.\n",
    "#5. Muestra el precio final de la compra, teniendo en cuenta el descuento aplicado o sin él.\n",
    "# 6. Recuerda utilizar estructuras de control de flujo como if, elif y else para llevar a cabo estas acciones en tu programa de Python.\n",
    "\n",
    "precio_original = float ( input (\"Introduzca el precio original del articulo: \"))\n",
    "tiene_descuento =  input (\"¿El articulo tiene descuento (si/no):\").lower ()\n",
    "\n",
    "if tiene_descuento == \"si\":\n",
    "    valor_cupon = float (input(\"Introduzca el valor del cupón descuento:\"))\n",
    "    if valor_cupon>0:\n",
    "        precio_final = precio_original - valor_cupon\n",
    "        print (f\"Se aplicó un descuento de : {valor_cupon:.2f}\")\n",
    "    else:\n",
    "        print (\"El valor del cupón no es válido. No se aplicará ningún descuento\")\n",
    "print(f\"El precio final de la compra es : {precio_final:.2f}\")"
   ]
  }
 ],
 "metadata": {
  "kernelspec": {
   "display_name": "Python 3",
   "language": "python",
   "name": "python3"
  },
  "language_info": {
   "codemirror_mode": {
    "name": "ipython",
    "version": 3
   },
   "file_extension": ".py",
   "mimetype": "text/x-python",
   "name": "python",
   "nbconvert_exporter": "python",
   "pygments_lexer": "ipython3",
   "version": "3.13.7"
  }
 },
 "nbformat": 4,
 "nbformat_minor": 5
}
